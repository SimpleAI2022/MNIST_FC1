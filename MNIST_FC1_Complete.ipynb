{
 "cells": [
  {
   "cell_type": "markdown",
   "metadata": {
    "id": "8_QMd9iVawbp"
   },
   "source": [
    "The MNIST classifier:\n",
    "0. Importing packages (Video 1)\n",
    "1. Define the Model Class (Video 1)\n",
    "2. Define a function for checking accuracy (Video 4)\n",
    "3. Download MNIST data and define the dataloader (Video 2)\n",
    "4. Define hyperparameters, device, model, optimizer, loss function (Video 2)\n",
    "5. Define the training loop (Video 3)\n"
   ]
  },
  {
   "cell_type": "markdown",
   "metadata": {
    "id": "igVLugCs9ARH"
   },
   "source": [
    "* Importing packages"
   ]
  },
  {
   "cell_type": "code",
   "execution_count": 1,
   "metadata": {
    "id": "QaU5Iy8oUkf0"
   },
   "outputs": [],
   "source": [
    "import torch\n",
    "import torch.nn as nn\n",
    "import torchvision.datasets as datasets\n",
    "import torch.optim as optim\n",
    "from torch.utils.data import DataLoader"
   ]
  },
  {
   "cell_type": "markdown",
   "metadata": {
    "id": "kcRh6bgyaut6"
   },
   "source": [
    "* Defining the Model Class:"
   ]
  },
  {
   "cell_type": "code",
   "execution_count": 2,
   "metadata": {
    "id": "w-1wrqsWUmrz"
   },
   "outputs": [],
   "source": [
    "class MyImageClassifier(nn.Module):\n",
    "  def __init__(self, num_pixels, num_out_1, num_classes):\n",
    "    super(MyImageClassifier, self).__init__()\n",
    "    self.my_image_classifier = nn.Sequential(\n",
    "        nn.Linear(num_pixels, num_out_1),\n",
    "        nn.ReLU(),\n",
    "        nn.Linear(num_out_1, num_classes)\n",
    "    )\n",
    "  \n",
    "  def forward(self, x):\n",
    "    x = self.my_image_classifier(x)\n",
    "    return x"
   ]
  },
  {
   "cell_type": "code",
   "execution_count": 3,
   "metadata": {
    "colab": {
     "base_uri": "https://localhost:8080/"
    },
    "id": "iXK-O6XljHlw",
    "outputId": "9f7e2724-8cb4-49a3-d6a3-2dbbfffbb14c"
   },
   "outputs": [
    {
     "name": "stdout",
     "output_type": "stream",
     "text": [
      "torch.Size([35, 10])\n"
     ]
    }
   ],
   "source": [
    "model = MyImageClassifier(500, 50, 10)\n",
    "x = torch.randn(35, 1, 25, 20)\n",
    "x = x.reshape(-1, 500)\n",
    "y = model(x)\n",
    "print(y.shape)"
   ]
  },
  {
   "cell_type": "markdown",
   "metadata": {
    "id": "fBEBsRbU-cH1"
   },
   "source": [
    "* Define a function for checking accuracy"
   ]
  },
  {
   "cell_type": "code",
   "execution_count": 20,
   "metadata": {
    "id": "OCiWOfWI-cT6"
   },
   "outputs": [],
   "source": [
    "def acc_calc(loader, model):\n",
    "  num_corrects = 0\n",
    "  num_samples = 0\n",
    "  model.eval()\n",
    "\n",
    "  with torch.no_grad():\n",
    "    for x, y in loader:\n",
    "      # send the data to the device\n",
    "      x = x.to(device)\n",
    "      y = y.to(device)\n",
    "\n",
    "      # prepare the data for the model\n",
    "      x = x.reshape(-1, 784)\n",
    "\n",
    "      # forward\n",
    "      y_hat = model(x)\n",
    "\n",
    "      # calculations for accuracy\n",
    "      _, predictions = y_hat.max(1)\n",
    "      num_corrects += (predictions == y).sum()\n",
    "      num_samples += predictions.size(0)\n",
    "\n",
    "    print(f\"Accuracy = {num_corrects/num_samples*100:.2f}; Received {num_corrects}/{num_samples}\")\n",
    "    model.train()\n"
   ]
  },
  {
   "cell_type": "markdown",
   "metadata": {
    "id": "kLsKy4U6-cex"
   },
   "source": [
    "* Define hyperparameters, device, model, optimizer, loss function\n"
   ]
  },
  {
   "cell_type": "code",
   "execution_count": 19,
   "metadata": {
    "colab": {
     "base_uri": "https://localhost:8080/"
    },
    "id": "Up2UOqEk-cpB",
    "outputId": "bf26d9c8-2045-4550-ef14-3f4e41a5fd0c"
   },
   "outputs": [
    {
     "name": "stdout",
     "output_type": "stream",
     "text": [
      "cuda\n"
     ]
    }
   ],
   "source": [
    "# hyperparameters\n",
    "LR = 3e-4\n",
    "BATCH_SIZE = 128\n",
    "NUM_EPOCHS = 5\n",
    "NUM_OUT_1 = 50\n",
    "\n",
    "# device\n",
    "device = \"cuda\" if torch.cuda.is_available() else \"cpu\"\n",
    "print(device)\n",
    "\n",
    "# model\n",
    "model = MyImageClassifier(num_pixels=784, num_out_1=NUM_OUT_1, num_classes=10)\n",
    "model = model.to(device)\n",
    "\n",
    "# optimizer\n",
    "optimizer = optim.Adam(model.parameters(), lr=LR)\n",
    "\n",
    "# loss function\n",
    "criterion = nn.CrossEntropyLoss()\n"
   ]
  },
  {
   "cell_type": "markdown",
   "metadata": {
    "id": "s7v8ierR-cyR"
   },
   "source": [
    "* Download MNIST data and define the dataloader"
   ]
  },
  {
   "cell_type": "code",
   "execution_count": 17,
   "metadata": {
    "id": "szQ87Apb-c69"
   },
   "outputs": [],
   "source": [
    "import torchvision.transforms as transforms\n",
    "\n",
    "# download data\n",
    "mnist_train = datasets.MNIST(root=\"/datasets\", transform=transforms.ToTensor(), download=True, train=True)\n",
    "mnist_test = datasets.MNIST(root=\"/datasets\", transform=transforms.ToTensor(), download=True, train=False)\n",
    "\n",
    "# defining the dataloder\n",
    "train_loader = DataLoader(mnist_train, batch_size=BATCH_SIZE, shuffle=True)\n",
    "test_loader = DataLoader(mnist_test, batch_size=BATCH_SIZE, shuffle=True)\n"
   ]
  },
  {
   "cell_type": "markdown",
   "metadata": {
    "id": "OHhQNfyF-dIF"
   },
   "source": [
    "* Define the training loop (testing embedded)"
   ]
  },
  {
   "cell_type": "code",
   "execution_count": 21,
   "metadata": {
    "colab": {
     "base_uri": "https://localhost:8080/"
    },
    "id": "E32iFrTe_jra",
    "outputId": "2d162ca9-33dc-49d5-f3fa-b38a5f4e72ec"
   },
   "outputs": [
    {
     "name": "stdout",
     "output_type": "stream",
     "text": [
      "Epoch 1 is done; loss = 408.29583740234375\n",
      "Accuracy = 89.86; Received 8986/10000\n",
      "Epoch 2 is done; loss = 166.52503967285156\n",
      "Accuracy = 91.57; Received 9157/10000\n",
      "Epoch 3 is done; loss = 137.46730041503906\n",
      "Accuracy = 92.49; Received 9249/10000\n",
      "Epoch 4 is done; loss = 121.78385925292969\n",
      "Accuracy = 93.27; Received 9327/10000\n",
      "Epoch 5 is done; loss = 110.26744842529297\n",
      "Accuracy = 93.72; Received 9372/10000\n"
     ]
    }
   ],
   "source": [
    "for epoch in range(NUM_EPOCHS):\n",
    "  running_loss = 0.0\n",
    "  for batch_idx, (x, y) in enumerate(train_loader):\n",
    "    # send the data to the device\n",
    "    x = x.to(device)\n",
    "    y = y.to(device)\n",
    "\n",
    "    # prepare the data for the model\n",
    "    x = x.reshape(-1, 784)\n",
    "\n",
    "    # forward\n",
    "    y_hat = model(x)\n",
    "    loss = criterion(y_hat, y)\n",
    "    running_loss += loss\n",
    "\n",
    "    # backward\n",
    "    optimizer.zero_grad()\n",
    "    loss.backward()\n",
    "    optimizer.step()\n",
    "\n",
    "  print(f\"Epoch {epoch + 1} is done; loss = {running_loss}\")\n",
    "  acc_calc(test_loader, model)"
   ]
  }
 ],
 "metadata": {
  "accelerator": "GPU",
  "colab": {
   "collapsed_sections": [],
   "name": "MNIST_classifier_FC1.ipynb",
   "provenance": []
  },
  "kernelspec": {
   "display_name": "Python 3",
   "language": "python",
   "name": "python3"
  },
  "language_info": {
   "codemirror_mode": {
    "name": "ipython",
    "version": 3
   },
   "file_extension": ".py",
   "mimetype": "text/x-python",
   "name": "python",
   "nbconvert_exporter": "python",
   "pygments_lexer": "ipython3",
   "version": "3.8.5"
  }
 },
 "nbformat": 4,
 "nbformat_minor": 1
}
