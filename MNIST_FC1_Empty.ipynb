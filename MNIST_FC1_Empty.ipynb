{
 "cells": [
  {
   "cell_type": "markdown",
   "metadata": {
    "id": "8_QMd9iVawbp"
   },
   "source": [
    "The MNIST classifier:\n",
    "0. Importing packages (Video 1: https://youtu.be/vB-4GM_OqRg )\n",
    "1. Define the Model Class (Video 1: https://youtu.be/vB-4GM_OqRg)\n",
    "2. Define a function for checking accuracy (Video 4: https://youtu.be/CvHqnlm1690)\n",
    "3. Download MNIST data and define the dataloader (Video 2: https://youtu.be/Y_hSBwucDjg)\n",
    "4. Define hyperparameters, device, model, optimizer, loss function (Video 2: https://youtu.be/Y_hSBwucDjg)\n",
    "5. Define the training loop (Video 3:https://youtu.be/vbpu9P0l5JU)\n"
   ]
  },
  {
   "cell_type": "markdown",
   "metadata": {
    "id": "igVLugCs9ARH"
   },
   "source": [
    "* Importing packages"
   ]
  },
  {
   "cell_type": "code",
   "execution_count": 1,
   "metadata": {
    "id": "QaU5Iy8oUkf0"
   },
   "outputs": [],
   "source": []
  },
  {
   "cell_type": "markdown",
   "metadata": {
    "id": "kcRh6bgyaut6"
   },
   "source": [
    "* Defining the Model Class:"
   ]
  },
  {
   "cell_type": "code",
   "execution_count": 2,
   "metadata": {
    "id": "w-1wrqsWUmrz"
   },
   "outputs": [],
   "source": []
  },
  {
   "cell_type": "code",
   "execution_count": null,
   "metadata": {
    "colab": {
     "base_uri": "https://localhost:8080/"
    },
    "id": "iXK-O6XljHlw",
    "outputId": "9f7e2724-8cb4-49a3-d6a3-2dbbfffbb14c"
   },
   "outputs": [],
   "source": []
  },
  {
   "cell_type": "markdown",
   "metadata": {
    "id": "fBEBsRbU-cH1"
   },
   "source": [
    "* Define a function for checking accuracy"
   ]
  },
  {
   "cell_type": "code",
   "execution_count": 20,
   "metadata": {
    "id": "OCiWOfWI-cT6"
   },
   "outputs": [],
   "source": []
  },
  {
   "cell_type": "markdown",
   "metadata": {
    "id": "kLsKy4U6-cex"
   },
   "source": [
    "* Define hyperparameters, device, model, optimizer, loss function\n"
   ]
  },
  {
   "cell_type": "code",
   "execution_count": null,
   "metadata": {
    "colab": {
     "base_uri": "https://localhost:8080/"
    },
    "id": "Up2UOqEk-cpB",
    "outputId": "bf26d9c8-2045-4550-ef14-3f4e41a5fd0c"
   },
   "outputs": [],
   "source": []
  },
  {
   "cell_type": "markdown",
   "metadata": {
    "id": "s7v8ierR-cyR"
   },
   "source": [
    "* Download MNIST data and define the dataloader"
   ]
  },
  {
   "cell_type": "code",
   "execution_count": null,
   "metadata": {
    "id": "szQ87Apb-c69"
   },
   "outputs": [],
   "source": []
  },
  {
   "cell_type": "markdown",
   "metadata": {
    "id": "OHhQNfyF-dIF"
   },
   "source": [
    "* Define the training loop (testing embedded)"
   ]
  },
  {
   "cell_type": "code",
   "execution_count": null,
   "metadata": {
    "colab": {
     "base_uri": "https://localhost:8080/"
    },
    "id": "E32iFrTe_jra",
    "outputId": "2d162ca9-33dc-49d5-f3fa-b38a5f4e72ec"
   },
   "outputs": [],
   "source": []
  }
 ],
 "metadata": {
  "accelerator": "GPU",
  "colab": {
   "collapsed_sections": [],
   "name": "MNIST_classifier_FC1.ipynb",
   "provenance": []
  },
  "kernelspec": {
   "display_name": "Python 3",
   "language": "python",
   "name": "python3"
  },
  "language_info": {
   "codemirror_mode": {
    "name": "ipython",
    "version": 3
   },
   "file_extension": ".py",
   "mimetype": "text/x-python",
   "name": "python",
   "nbconvert_exporter": "python",
   "pygments_lexer": "ipython3",
   "version": "3.8.5"
  }
 },
 "nbformat": 4,
 "nbformat_minor": 1
}
